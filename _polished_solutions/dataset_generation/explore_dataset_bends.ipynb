{
 "cells": [
  {
   "cell_type": "markdown",
   "id": "af9c88a3",
   "metadata": {},
   "source": [
    "# Explore Bend Cluster Data"
   ]
  },
  {
   "cell_type": "code",
   "execution_count": 8,
   "id": "d80c2431",
   "metadata": {},
   "outputs": [],
   "source": [
    "import pandas as pd\n",
    "import matplotlib.pyplot as plt"
   ]
  },
  {
   "cell_type": "code",
   "execution_count": null,
   "id": "e824d10d",
   "metadata": {},
   "outputs": [
    {
     "name": "stdout",
     "output_type": "stream",
     "text": [
      "Number of rows in the original DataFrame: 569\n"
     ]
    }
   ],
   "source": [
    "csv_file = 'merged_clusters.csv'\n",
    "\n",
    "df = pd.read_csv(csv_file)\n",
    "\n",
    "print(\"Number of rows in the original DataFrame:\", len(df))"
   ]
  },
  {
   "cell_type": "code",
   "execution_count": 7,
   "id": "649368c4",
   "metadata": {},
   "outputs": [
    {
     "data": {
      "application/vnd.microsoft.datawrangler.viewer.v0+json": {
       "columns": [
        {
         "name": "index",
         "rawType": "object",
         "type": "string"
        },
        {
         "name": "start_idx",
         "rawType": "float64",
         "type": "float"
        },
        {
         "name": "end_idx",
         "rawType": "float64",
         "type": "float"
        },
        {
         "name": "avg_angle",
         "rawType": "float64",
         "type": "float"
        },
        {
         "name": "n_points",
         "rawType": "float64",
         "type": "float"
        },
        {
         "name": "avg_speed",
         "rawType": "float64",
         "type": "float"
        },
        {
         "name": "start_frame",
         "rawType": "float64",
         "type": "float"
        },
        {
         "name": "10 meters frame",
         "rawType": "float64",
         "type": "float"
        },
        {
         "name": "20 meters frame",
         "rawType": "float64",
         "type": "float"
        },
        {
         "name": "30 meters frame",
         "rawType": "float64",
         "type": "float"
        },
        {
         "name": "40 meters frame",
         "rawType": "float64",
         "type": "float"
        },
        {
         "name": "50 meters frame",
         "rawType": "float64",
         "type": "float"
        },
        {
         "name": "75 meters frame",
         "rawType": "float64",
         "type": "float"
        },
        {
         "name": "100 meters frame",
         "rawType": "float64",
         "type": "float"
        }
       ],
       "conversionMethod": "pd.DataFrame",
       "ref": "cdf90a71-2de5-4547-9ca3-dcf8cae7c1c0",
       "rows": [
        [
         "count",
         "569.0",
         "569.0",
         "569.0",
         "569.0",
         "569.0",
         "569.0",
         "569.0",
         "569.0",
         "569.0",
         "569.0",
         "569.0",
         "569.0",
         "569.0"
        ],
        [
         "mean",
         "816.3673110720563",
         "853.1915641476274",
         "0.4374777196270142",
         "25.845342706502635",
         "31.28284710017575",
         "2443.866432337434",
         "2413.416520210896",
         "2388.727592267135",
         "2367.115992970123",
         "2299.511423550088",
         "2192.3743409490335",
         "1931.708260105448",
         "1663.5342706502636"
        ],
        [
         "std",
         "525.110937695359",
         "524.0986160688948",
         "13.956617515125773",
         "32.9406847996092",
         "16.95490089664227",
         "1572.410435350355",
         "1573.2196276998718",
         "1571.9874972494067",
         "1570.3764677956844",
         "1584.6695017847976",
         "1607.6710679710443",
         "1659.3946076909383",
         "1681.1452604065896"
        ],
        [
         "min",
         "2.0",
         "4.0",
         "-106.87726315789476",
         "1.0",
         "0.0",
         "2.0",
         "-1.0",
         "-1.0",
         "-1.0",
         "-1.0",
         "-1.0",
         "-1.0",
         "-1.0"
        ],
        [
         "25%",
         "365.0",
         "418.0",
         "-5.213529411764705",
         "5.0",
         "21.39",
         "1093.0",
         "1072.0",
         "1051.0",
         "1027.0",
         "959.0",
         "755.0",
         "248.0",
         "-1.0"
        ],
        [
         "50%",
         "771.0",
         "814.0",
         "0.0446153846153835",
         "12.0",
         "31.97",
         "2307.0",
         "2265.0",
         "2244.0",
         "2217.0",
         "2115.0",
         "2016.0",
         "1708.0",
         "1255.0"
        ],
        [
         "75%",
         "1257.0",
         "1309.0",
         "4.95",
         "33.0",
         "41.01",
         "3764.0",
         "3719.0",
         "3695.0",
         "3677.0",
         "3548.0",
         "3443.0",
         "3269.0",
         "3029.0"
        ],
        [
         "max",
         "1793.0",
         "1803.0",
         "111.65",
         "180.0",
         "71.5",
         "5370.0",
         "5346.0",
         "5328.0",
         "5316.0",
         "5304.0",
         "5292.0",
         "5259.0",
         "5229.0"
        ]
       ],
       "shape": {
        "columns": 13,
        "rows": 8
       }
      },
      "text/html": [
       "<div>\n",
       "<style scoped>\n",
       "    .dataframe tbody tr th:only-of-type {\n",
       "        vertical-align: middle;\n",
       "    }\n",
       "\n",
       "    .dataframe tbody tr th {\n",
       "        vertical-align: top;\n",
       "    }\n",
       "\n",
       "    .dataframe thead th {\n",
       "        text-align: right;\n",
       "    }\n",
       "</style>\n",
       "<table border=\"1\" class=\"dataframe\">\n",
       "  <thead>\n",
       "    <tr style=\"text-align: right;\">\n",
       "      <th></th>\n",
       "      <th>start_idx</th>\n",
       "      <th>end_idx</th>\n",
       "      <th>avg_angle</th>\n",
       "      <th>n_points</th>\n",
       "      <th>avg_speed</th>\n",
       "      <th>start_frame</th>\n",
       "      <th>10 meters frame</th>\n",
       "      <th>20 meters frame</th>\n",
       "      <th>30 meters frame</th>\n",
       "      <th>40 meters frame</th>\n",
       "      <th>50 meters frame</th>\n",
       "      <th>75 meters frame</th>\n",
       "      <th>100 meters frame</th>\n",
       "    </tr>\n",
       "  </thead>\n",
       "  <tbody>\n",
       "    <tr>\n",
       "      <th>count</th>\n",
       "      <td>569.000000</td>\n",
       "      <td>569.000000</td>\n",
       "      <td>569.000000</td>\n",
       "      <td>569.000000</td>\n",
       "      <td>569.000000</td>\n",
       "      <td>569.000000</td>\n",
       "      <td>569.000000</td>\n",
       "      <td>569.000000</td>\n",
       "      <td>569.000000</td>\n",
       "      <td>569.000000</td>\n",
       "      <td>569.000000</td>\n",
       "      <td>569.000000</td>\n",
       "      <td>569.000000</td>\n",
       "    </tr>\n",
       "    <tr>\n",
       "      <th>mean</th>\n",
       "      <td>816.367311</td>\n",
       "      <td>853.191564</td>\n",
       "      <td>0.437478</td>\n",
       "      <td>25.845343</td>\n",
       "      <td>31.282847</td>\n",
       "      <td>2443.866432</td>\n",
       "      <td>2413.416520</td>\n",
       "      <td>2388.727592</td>\n",
       "      <td>2367.115993</td>\n",
       "      <td>2299.511424</td>\n",
       "      <td>2192.374341</td>\n",
       "      <td>1931.708260</td>\n",
       "      <td>1663.534271</td>\n",
       "    </tr>\n",
       "    <tr>\n",
       "      <th>std</th>\n",
       "      <td>525.110938</td>\n",
       "      <td>524.098616</td>\n",
       "      <td>13.956618</td>\n",
       "      <td>32.940685</td>\n",
       "      <td>16.954901</td>\n",
       "      <td>1572.410435</td>\n",
       "      <td>1573.219628</td>\n",
       "      <td>1571.987497</td>\n",
       "      <td>1570.376468</td>\n",
       "      <td>1584.669502</td>\n",
       "      <td>1607.671068</td>\n",
       "      <td>1659.394608</td>\n",
       "      <td>1681.145260</td>\n",
       "    </tr>\n",
       "    <tr>\n",
       "      <th>min</th>\n",
       "      <td>2.000000</td>\n",
       "      <td>4.000000</td>\n",
       "      <td>-106.877263</td>\n",
       "      <td>1.000000</td>\n",
       "      <td>0.000000</td>\n",
       "      <td>2.000000</td>\n",
       "      <td>-1.000000</td>\n",
       "      <td>-1.000000</td>\n",
       "      <td>-1.000000</td>\n",
       "      <td>-1.000000</td>\n",
       "      <td>-1.000000</td>\n",
       "      <td>-1.000000</td>\n",
       "      <td>-1.000000</td>\n",
       "    </tr>\n",
       "    <tr>\n",
       "      <th>25%</th>\n",
       "      <td>365.000000</td>\n",
       "      <td>418.000000</td>\n",
       "      <td>-5.213529</td>\n",
       "      <td>5.000000</td>\n",
       "      <td>21.390000</td>\n",
       "      <td>1093.000000</td>\n",
       "      <td>1072.000000</td>\n",
       "      <td>1051.000000</td>\n",
       "      <td>1027.000000</td>\n",
       "      <td>959.000000</td>\n",
       "      <td>755.000000</td>\n",
       "      <td>248.000000</td>\n",
       "      <td>-1.000000</td>\n",
       "    </tr>\n",
       "    <tr>\n",
       "      <th>50%</th>\n",
       "      <td>771.000000</td>\n",
       "      <td>814.000000</td>\n",
       "      <td>0.044615</td>\n",
       "      <td>12.000000</td>\n",
       "      <td>31.970000</td>\n",
       "      <td>2307.000000</td>\n",
       "      <td>2265.000000</td>\n",
       "      <td>2244.000000</td>\n",
       "      <td>2217.000000</td>\n",
       "      <td>2115.000000</td>\n",
       "      <td>2016.000000</td>\n",
       "      <td>1708.000000</td>\n",
       "      <td>1255.000000</td>\n",
       "    </tr>\n",
       "    <tr>\n",
       "      <th>75%</th>\n",
       "      <td>1257.000000</td>\n",
       "      <td>1309.000000</td>\n",
       "      <td>4.950000</td>\n",
       "      <td>33.000000</td>\n",
       "      <td>41.010000</td>\n",
       "      <td>3764.000000</td>\n",
       "      <td>3719.000000</td>\n",
       "      <td>3695.000000</td>\n",
       "      <td>3677.000000</td>\n",
       "      <td>3548.000000</td>\n",
       "      <td>3443.000000</td>\n",
       "      <td>3269.000000</td>\n",
       "      <td>3029.000000</td>\n",
       "    </tr>\n",
       "    <tr>\n",
       "      <th>max</th>\n",
       "      <td>1793.000000</td>\n",
       "      <td>1803.000000</td>\n",
       "      <td>111.650000</td>\n",
       "      <td>180.000000</td>\n",
       "      <td>71.500000</td>\n",
       "      <td>5370.000000</td>\n",
       "      <td>5346.000000</td>\n",
       "      <td>5328.000000</td>\n",
       "      <td>5316.000000</td>\n",
       "      <td>5304.000000</td>\n",
       "      <td>5292.000000</td>\n",
       "      <td>5259.000000</td>\n",
       "      <td>5229.000000</td>\n",
       "    </tr>\n",
       "  </tbody>\n",
       "</table>\n",
       "</div>"
      ],
      "text/plain": [
       "         start_idx      end_idx   avg_angle    n_points   avg_speed  \\\n",
       "count   569.000000   569.000000  569.000000  569.000000  569.000000   \n",
       "mean    816.367311   853.191564    0.437478   25.845343   31.282847   \n",
       "std     525.110938   524.098616   13.956618   32.940685   16.954901   \n",
       "min       2.000000     4.000000 -106.877263    1.000000    0.000000   \n",
       "25%     365.000000   418.000000   -5.213529    5.000000   21.390000   \n",
       "50%     771.000000   814.000000    0.044615   12.000000   31.970000   \n",
       "75%    1257.000000  1309.000000    4.950000   33.000000   41.010000   \n",
       "max    1793.000000  1803.000000  111.650000  180.000000   71.500000   \n",
       "\n",
       "       start_frame  10 meters frame  20 meters frame  30 meters frame  \\\n",
       "count   569.000000       569.000000       569.000000       569.000000   \n",
       "mean   2443.866432      2413.416520      2388.727592      2367.115993   \n",
       "std    1572.410435      1573.219628      1571.987497      1570.376468   \n",
       "min       2.000000        -1.000000        -1.000000        -1.000000   \n",
       "25%    1093.000000      1072.000000      1051.000000      1027.000000   \n",
       "50%    2307.000000      2265.000000      2244.000000      2217.000000   \n",
       "75%    3764.000000      3719.000000      3695.000000      3677.000000   \n",
       "max    5370.000000      5346.000000      5328.000000      5316.000000   \n",
       "\n",
       "       40 meters frame  50 meters frame  75 meters frame  100 meters frame  \n",
       "count       569.000000       569.000000       569.000000        569.000000  \n",
       "mean       2299.511424      2192.374341      1931.708260       1663.534271  \n",
       "std        1584.669502      1607.671068      1659.394608       1681.145260  \n",
       "min          -1.000000        -1.000000        -1.000000         -1.000000  \n",
       "25%         959.000000       755.000000       248.000000         -1.000000  \n",
       "50%        2115.000000      2016.000000      1708.000000       1255.000000  \n",
       "75%        3548.000000      3443.000000      3269.000000       3029.000000  \n",
       "max        5304.000000      5292.000000      5259.000000       5229.000000  "
      ]
     },
     "execution_count": 7,
     "metadata": {},
     "output_type": "execute_result"
    }
   ],
   "source": [
    "df.describe()"
   ]
  },
  {
   "cell_type": "markdown",
   "id": "241cbdde",
   "metadata": {},
   "source": [
    "# plot speeds"
   ]
  },
  {
   "cell_type": "code",
   "execution_count": 10,
   "id": "b913f324",
   "metadata": {},
   "outputs": [
    {
     "data": {
      "image/png": "[encoded data removed]",
      "text/plain": [
       "<Figure size 640x480 with 1 Axes>"
      ]
     },
     "metadata": {},
     "output_type": "display_data"
    }
   ],
   "source": [
    "speeds = df['avg_speed'].tolist()\n",
    "\n",
    "histogram = {}\n",
    "for speed in speeds:\n",
    "    if speed in histogram:\n",
    "        histogram[speed] += 1\n",
    "    else:\n",
    "        histogram[speed] = 1\n",
    "\n",
    "plt.hist(speeds, bins=100, edgecolor='black')\n",
    "plt.xlabel('Speed')\n",
    "plt.ylabel('Frequency')\n",
    "plt.title('Histogram of Speeds')\n",
    "plt.show()"
   ]
  },
  {
   "cell_type": "code",
   "execution_count": 11,
   "id": "658294a6",
   "metadata": {},
   "outputs": [
    {
     "name": "stdout",
     "output_type": "stream",
     "text": [
      "Number of rows in the DataFrame after removing records under the threshold: 474\n"
     ]
    }
   ],
   "source": [
    "threshold = 15\n",
    "\n",
    "# remove records under the threshold\n",
    "\n",
    "df = df[df['avg_speed'] >= threshold]\n",
    "print(\"Number of rows in the DataFrame after removing records under the threshold:\", len(df))    "
   ]
  },
  {
   "cell_type": "code",
   "execution_count": null,
   "id": "b8eeff2e",
   "metadata": {},
   "outputs": [
    {
     "data": {
      "image/png": "[encoded data removed]",
      "text/plain": [
       "<Figure size 640x480 with 1 Axes>"
      ]
     },
     "metadata": {},
     "output_type": "display_data"
    }
   ],
   "source": [
    "\n",
    "# plot angle hist\n",
    "plt.hist(df['avg_angle'], bins=100, edgecolor='black')\n",
    "plt.xlabel('Angle')\n",
    "plt.ylabel('Frequency')\n",
    "plt.title('Histogram of Angles')\n",
    "plt.show()"
   ]
  },
  {
   "cell_type": "code",
   "execution_count": 21,
   "id": "0a2cb7dc",
   "metadata": {},
   "outputs": [
    {
     "data": {
      "image/png": "[encoded data removed]",
      "text/plain": [
       "<Figure size 640x480 with 1 Axes>"
      ]
     },
     "metadata": {},
     "output_type": "display_data"
    }
   ],
   "source": [
    "# plot angle hist\n",
    "angles = df['avg_angle'].tolist()\n",
    "abs_angles = [abs(angle) for angle in angles]\n",
    "\n",
    "light = 5\n",
    "Moderate = 10\n",
    "Sharp = 15\n",
    "\n",
    "plt.hist(abs_angles, bins=100, edgecolor='black')\n",
    "plt.xlabel('Angle')\n",
    "plt.ylabel('Frequency')\n",
    "\n",
    "plt.axvline(x=light, color='r', linestyle='--', label='Light Bend Thereshold')\n",
    "plt.axvline(x=Moderate, color='g', linestyle='--', label='Moderate Bend Thereshold')\n",
    "plt.axvline(x=Sharp, color='b', linestyle='--', label='Sharp Bend Thereshold')\n",
    "\n",
    "plt.legend()\n",
    "plt.title('Histogram of Angles')\n",
    "plt.show()"
   ]
  },
  {
   "cell_type": "code",
   "execution_count": 29,
   "id": "255aaca3",
   "metadata": {},
   "outputs": [
    {
     "name": "stdout",
     "output_type": "stream",
     "text": [
      "Number of cells with 10 meters frame > 0: 465\n",
      "Number of cells with 20 meters frame > 0: 461\n",
      "Number of cells with 30 meters frame > 0: 457\n",
      "Number of cells with 40 meters frame > 0: 444\n",
      "Number of cells with 50 meters frame > 0: 428\n",
      "Number of cells with 75 meters frame > 0: 377\n",
      "Number of cells with 100 meters frame > 0: 325\n"
     ]
    },
    {
     "data": {
      "image/png": "[encoded data removed]",
      "text/plain": [
       "<Figure size 1000x600 with 1 Axes>"
      ]
     },
     "metadata": {},
     "output_type": "display_data"
    }
   ],
   "source": [
    "columns = df.columns\n",
    "distances_columns = [col for col in columns if 'meters' in col]\n",
    "\n",
    "# cound cells with distance > 0\n",
    "\n",
    "for col in distances_columns:\n",
    "    count = df[df[col] > 0].shape[0]\n",
    "    print(f\"Number of cells with {col} > 0: {count}\")\n",
    "\n",
    "\n",
    "# plot distance counts with col names\n",
    "plt.figure(figsize=(10, 6))\n",
    "for col in distances_columns:\n",
    "    count = df[df[col] > 0].shape[0]\n",
    "    plt.bar(col, count)\n",
    "plt.xlabel('Distance Columns')\n",
    "plt.ylabel('Count')\n",
    "plt.title('Valid Bends at Distances')\n",
    "plt.xticks(rotation=45)\n",
    "plt.tight_layout()\n",
    "plt.show()"
   ]
  },
  {
   "cell_type": "code",
   "execution_count": null,
   "id": "795aa217",
   "metadata": {},
   "outputs": [],
   "source": []
  }
 ],
 "metadata": {
  "kernelspec": {
   "display_name": "local-venv",
   "language": "python",
   "name": "python3"
  },
  "language_info": {
   "codemirror_mode": {
    "name": "ipython",
    "version": 3
   },
   "file_extension": ".py",
   "mimetype": "text/x-python",
   "name": "python",
   "nbconvert_exporter": "python",
   "pygments_lexer": "ipython3",
   "version": "3.12.3"
  }
 },
 "nbformat": 4,
 "nbformat_minor": 5
}

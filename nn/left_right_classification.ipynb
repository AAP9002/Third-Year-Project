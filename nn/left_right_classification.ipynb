{
  "cells": [
    {
      "cell_type": "markdown",
      "metadata": {
        "id": "TBFXQGKYUc4X"
      },
      "source": [
        "##### Copyright 2022 The TensorFlow Authors."
      ]
    },
    {
      "cell_type": "code",
      "execution_count": 1,
      "metadata": {
        "cellView": "form",
        "id": "1z4xy2gTUc4a"
      },
      "outputs": [],
      "source": [
        "#@title Licensed under the Apache License, Version 2.0 (the \"License\");\n",
        "# you may not use this file except in compliance with the License.\n",
        "# You may obtain a copy of the License at\n",
        "#\n",
        "# https://www.apache.org/licenses/LICENSE-2.0\n",
        "#\n",
        "# Unless required by applicable law or agreed to in writing, software\n",
        "# distributed under the License is distributed on an \"AS IS\" BASIS,\n",
        "# WITHOUT WARRANTIES OR CONDITIONS OF ANY KIND, either express or implied.\n",
        "# See the License for the specific language governing permissions and\n",
        "# limitations under the License."
      ]
    },
    {
      "cell_type": "markdown",
      "metadata": {
        "id": "L2MHy42s5wl6"
      },
      "source": [
        "# Left and Right Bend Video Classification with a 3D convolutional neural network\n",
        "\n",
        "Original code from: https://www.tensorflow.org/tutorials/video/video_classification\n",
        "\n",
        "Adapted for bend classification - original code was for action recognition"
      ]
    },
    {
      "cell_type": "markdown",
      "metadata": {
        "id": "_Ih_df2q0kw4"
      },
      "source": [
        "## Setup\n",
        "\n",
        "Begin by installing and importing some necessary libraries, including:\n",
        "[tqdm](https://github.com/tqdm/tqdm) to use a progress bar, [OpenCV](https://opencv.org/) to process video files, [einops](https://github.com/arogozhnikov/einops/tree/master/docs) for performing more complex tensor operations, and [`tensorflow_docs`](https://github.com/tensorflow/docs/tree/master/tools/tensorflow_docs) for embedding data in a Jupyter notebook."
      ]
    },
    {
      "cell_type": "code",
      "execution_count": 2,
      "metadata": {
        "colab": {
          "base_uri": "https://localhost:8080/"
        },
        "id": "KEbL4Mwi01PV",
        "outputId": "6a8c83a2-7685-47a2-c594-64254660fcf0"
      },
      "outputs": [
        {
          "name": "stdout",
          "output_type": "stream",
          "text": [
            "Requirement already satisfied: tqdm in /usr/local/lib/python3.11/dist-packages (4.67.1)\n",
            "Requirement already satisfied: opencv-python in /usr/local/lib/python3.11/dist-packages (4.11.0.86)\n",
            "Requirement already satisfied: einops in /usr/local/lib/python3.11/dist-packages (0.8.1)\n",
            "Requirement already satisfied: numpy>=1.21.2 in /usr/local/lib/python3.11/dist-packages (from opencv-python) (1.26.4)\n",
            "Requirement already satisfied: tensorflow in /usr/local/lib/python3.11/dist-packages (2.19.0)\n",
            "Requirement already satisfied: keras in /usr/local/lib/python3.11/dist-packages (3.9.0)\n",
            "Requirement already satisfied: absl-py>=1.0.0 in /usr/local/lib/python3.11/dist-packages (from tensorflow) (1.4.0)\n",
            "Requirement already satisfied: astunparse>=1.6.0 in /usr/local/lib/python3.11/dist-packages (from tensorflow) (1.6.3)\n",
            "Requirement already satisfied: flatbuffers>=24.3.25 in /usr/local/lib/python3.11/dist-packages (from tensorflow) (25.2.10)\n",
            "Requirement already satisfied: gast!=0.5.0,!=0.5.1,!=0.5.2,>=0.2.1 in /usr/local/lib/python3.11/dist-packages (from tensorflow) (0.6.0)\n",
            "Requirement already satisfied: google-pasta>=0.1.1 in /usr/local/lib/python3.11/dist-packages (from tensorflow) (0.2.0)\n",
            "Requirement already satisfied: libclang>=13.0.0 in /usr/local/lib/python3.11/dist-packages (from tensorflow) (18.1.1)\n",
            "Requirement already satisfied: opt-einsum>=2.3.2 in /usr/local/lib/python3.11/dist-packages (from tensorflow) (3.4.0)\n",
            "Requirement already satisfied: packaging in /usr/local/lib/python3.11/dist-packages (from tensorflow) (24.2)\n",
            "Requirement already satisfied: protobuf!=4.21.0,!=4.21.1,!=4.21.2,!=4.21.3,!=4.21.4,!=4.21.5,<6.0.0dev,>=3.20.3 in /usr/local/lib/python3.11/dist-packages (from tensorflow) (4.25.6)\n",
            "Requirement already satisfied: requests<3,>=2.21.0 in /usr/local/lib/python3.11/dist-packages (from tensorflow) (2.32.3)\n",
            "Requirement already satisfied: setuptools in /usr/local/lib/python3.11/dist-packages (from tensorflow) (75.1.0)\n",
            "Requirement already satisfied: six>=1.12.0 in /usr/local/lib/python3.11/dist-packages (from tensorflow) (1.17.0)\n",
            "Requirement already satisfied: termcolor>=1.1.0 in /usr/local/lib/python3.11/dist-packages (from tensorflow) (2.5.0)\n",
            "Requirement already satisfied: typing-extensions>=3.6.6 in /usr/local/lib/python3.11/dist-packages (from tensorflow) (4.12.2)\n",
            "Requirement already satisfied: wrapt>=1.11.0 in /usr/local/lib/python3.11/dist-packages (from tensorflow) (1.17.2)\n",
            "Requirement already satisfied: grpcio<2.0,>=1.24.3 in /usr/local/lib/python3.11/dist-packages (from tensorflow) (1.71.0)\n",
            "Requirement already satisfied: tensorboard~=2.19.0 in /usr/local/lib/python3.11/dist-packages (from tensorflow) (2.19.0)\n",
            "Requirement already satisfied: numpy<2.2.0,>=1.26.0 in /usr/local/lib/python3.11/dist-packages (from tensorflow) (1.26.4)\n",
            "Requirement already satisfied: h5py>=3.11.0 in /usr/local/lib/python3.11/dist-packages (from tensorflow) (3.12.1)\n",
            "Requirement already satisfied: ml-dtypes<1.0.0,>=0.5.1 in /usr/local/lib/python3.11/dist-packages (from tensorflow) (0.5.1)\n",
            "Requirement already satisfied: tensorflow-io-gcs-filesystem>=0.23.1 in /usr/local/lib/python3.11/dist-packages (from tensorflow) (0.37.1)\n",
            "Requirement already satisfied: rich in /usr/local/lib/python3.11/dist-packages (from keras) (13.9.4)\n",
            "Requirement already satisfied: namex in /usr/local/lib/python3.11/dist-packages (from keras) (0.0.8)\n",
            "Requirement already satisfied: optree in /usr/local/lib/python3.11/dist-packages (from keras) (0.14.1)\n",
            "Requirement already satisfied: wheel<1.0,>=0.23.0 in /usr/local/lib/python3.11/dist-packages (from astunparse>=1.6.0->tensorflow) (0.45.1)\n",
            "Requirement already satisfied: charset-normalizer<4,>=2 in /usr/local/lib/python3.11/dist-packages (from requests<3,>=2.21.0->tensorflow) (3.4.1)\n",
            "Requirement already satisfied: idna<4,>=2.5 in /usr/local/lib/python3.11/dist-packages (from requests<3,>=2.21.0->tensorflow) (3.10)\n",
            "Requirement already satisfied: urllib3<3,>=1.21.1 in /usr/local/lib/python3.11/dist-packages (from requests<3,>=2.21.0->tensorflow) (2.3.0)\n",
            "Requirement already satisfied: certifi>=2017.4.17 in /usr/local/lib/python3.11/dist-packages (from requests<3,>=2.21.0->tensorflow) (2025.1.31)\n",
            "Requirement already satisfied: markdown>=2.6.8 in /usr/local/lib/python3.11/dist-packages (from tensorboard~=2.19.0->tensorflow) (3.7)\n",
            "Requirement already satisfied: tensorboard-data-server<0.8.0,>=0.7.0 in /usr/local/lib/python3.11/dist-packages (from tensorboard~=2.19.0->tensorflow) (0.7.2)\n",
            "Requirement already satisfied: werkzeug>=1.0.1 in /usr/local/lib/python3.11/dist-packages (from tensorboard~=2.19.0->tensorflow) (3.1.3)\n",
            "Requirement already satisfied: markdown-it-py>=2.2.0 in /usr/local/lib/python3.11/dist-packages (from rich->keras) (3.0.0)\n",
            "Requirement already satisfied: pygments<3.0.0,>=2.13.0 in /usr/local/lib/python3.11/dist-packages (from rich->keras) (2.18.0)\n",
            "Requirement already satisfied: mdurl~=0.1 in /usr/local/lib/python3.11/dist-packages (from markdown-it-py>=2.2.0->rich->keras) (0.1.2)\n",
            "Requirement already satisfied: MarkupSafe>=2.1.1 in /usr/local/lib/python3.11/dist-packages (from werkzeug>=1.0.1->tensorboard~=2.19.0->tensorflow) (3.0.2)\n"
          ]
        }
      ],
      "source": [
        "!pip install tqdm opencv-python einops\n",
        "!pip install -U tensorflow keras"
      ]
    },
    {
      "cell_type": "code",
      "execution_count": 3,
      "metadata": {
        "id": "gg0otuqb0hIf"
      },
      "outputs": [],
      "source": [
        "import tqdm\n",
        "import random\n",
        "import pathlib\n",
        "import itertools\n",
        "import collections\n",
        "import zipfile\n",
        "import os\n",
        "\n",
        "import cv2\n",
        "import einops\n",
        "import numpy as np\n",
        "import seaborn as sns\n",
        "import matplotlib.pyplot as plt\n",
        "\n",
        "import tensorflow as tf\n",
        "import keras\n",
        "from keras import layers"
      ]
    },
    {
      "cell_type": "code",
      "execution_count": 4,
      "metadata": {
        "id": "rRrSzl1xuJQ2"
      },
      "outputs": [],
      "source": [
        "MODE = \"RGB\"\n",
        "\n",
        "# MODE = \"RGB\"\n",
        "DATASET = \"RGB_OPTIC_FLOW_LARGE_V1\"\n",
        "\n",
        "DATASET_FILE = f\"{DATASET}.zip\"\n",
        "CHANNELS = 2 if MODE == \"OPTIC_FLOW\" else 3"
      ]
    },
    {
      "cell_type": "code",
      "execution_count": 5,
      "metadata": {
        "colab": {
          "base_uri": "https://localhost:8080/",
          "height": 67,
          "referenced_widgets": [
            "6124ee1164c34542b37e6c9b8c823052",
            "cb29470c681246b3bc3dce89ecf61ba4",
            "d63861a738b749db9d4267be1d4a982f",
            "f9a30e2419464e58b8dbe47b8666a644",
            "e2efd6c8eaa647d7935b6b75991fae86",
            "8a3944cd792740d09f19fd5f8d0a60a0",
            "594fe946a80045a7a5b61ec7dfb05d7a",
            "cc18c02f82284b52851c11985c3744d6",
            "3666c05abbb145b7af0d9403f225f0da",
            "83d5a9cfd1a546d7a5df68967e35fc02",
            "ae92a809dd8c48deb7e2d9e3a57e9f8a"
          ]
        },
        "id": "5fPbu7XGjG63",
        "outputId": "c8a9952a-e34d-4626-b3bf-b803d9402047"
      },
      "outputs": [
        {
          "data": {
            "application/vnd.jupyter.widget-view+json": {
              "model_id": "6124ee1164c34542b37e6c9b8c823052",
              "version_major": 2,
              "version_minor": 0
            },
            "text/plain": [
              "Fetching 1 files:   0%|          | 0/1 [00:00<?, ?it/s]"
            ]
          },
          "metadata": {},
          "output_type": "display_data"
        },
        {
          "data": {
            "application/vnd.google.colaboratory.intrinsic+json": {
              "type": "string"
            },
            "text/plain": [
              "'/content'"
            ]
          },
          "execution_count": 5,
          "metadata": {},
          "output_type": "execute_result"
        }
      ],
      "source": [
        "from huggingface_hub import snapshot_download\n",
        "\n",
        "# set HF_TOKEN in your enviroment\n",
        "\n",
        "snapshot_download(repo_id=\"aap9002/RGB_Optic_Flow_Bend_Classification\",  repo_type=\"dataset\", allow_patterns=f\"*{DATASET_FILE}\", local_dir='./')"
      ]
    },
    {
      "cell_type": "markdown",
      "metadata": {
        "id": "Ctk9A57-6ABq"
      },
      "source": [
        "## Load and preprocess video data\n",
        "\n",
        "The hidden cell below defines helper functions to download a slice of data from our custom dataset, and load it into a `tf.data.Dataset`. You can learn more about the specific preprocessing steps in the [Loading video data tutorial](../load_data/video.ipynb), which walks you through this code in more detail.\n",
        "\n",
        "The `FrameGenerator` class at the end of the hidden block is the most important utility here. It creates an iterable object that can feed data into the TensorFlow data pipeline. Specifically, this class contains a Python generator that loads the video frames along with its encoded label. The generator (`__call__`) function yields the frame array produced by `frames_from_video_file` and a one-hot encoded vector of the label associated with the set of frames."
      ]
    },
    {
      "cell_type": "code",
      "execution_count": 6,
      "metadata": {
        "id": "nB2aOTU35r9_"
      },
      "outputs": [],
      "source": [
        "#@title\n",
        "\n",
        "def list_files_per_class(local_zip_file):\n",
        "    \"\"\"\n",
        "    List the files in each class of the dataset from a local zip file.\n",
        "\n",
        "    Args:\n",
        "      local_zip_file: Path to the local zip file.\n",
        "\n",
        "    Returns:\n",
        "      A dictionary mapping each class to a list of file names belonging to that class.\n",
        "    \"\"\"\n",
        "    files_by_class = {}\n",
        "    with zipfile.ZipFile(local_zip_file, 'r') as zip_ref:\n",
        "        for zip_info in zip_ref.infolist():\n",
        "            # Skip directories.\n",
        "            if not zip_info.is_dir():\n",
        "                filename = zip_info.filename\n",
        "                if not filename.endswith('.avi'):\n",
        "                  continue\n",
        "                class_name = get_class(filename)  # Assumes get_class is defined elsewhere.\n",
        "                if class_name is None: # skip if no class name retuened\n",
        "                  continue\n",
        "\n",
        "                if class_name not in files_by_class:\n",
        "                    files_by_class[class_name] = []\n",
        "                files_by_class[class_name].append(filename)\n",
        "\n",
        "    print(f\"Found {len(files_by_class)} classes.\")\n",
        "    for cls, files in files_by_class.items():\n",
        "        print(f\"{cls}: {len(files)} files\")\n",
        "    return files_by_class\n",
        "\n",
        "def get_class(fname, MAX_DISTANCE_ALLOWED = 50):\n",
        "  \"\"\"\n",
        "    Retrieve the name of the class given a filename.\n",
        "\n",
        "    Args:\n",
        "      fname: Name of the file in the UCF101 dataset.\n",
        "\n",
        "    Return:\n",
        "      Class that the file belongs to.\n",
        "  \"\"\"\n",
        "  if MODE == \"OPTIC_FLOW\":\n",
        "    if \"OpticFlow\" not in fname:\n",
        "      return None\n",
        "  elif MODE == \"RGB\":\n",
        "    if \"OpticFlow\" in fname:\n",
        "      return None\n",
        "\n",
        "  angle = fname.split('_')[-4]\n",
        "\n",
        "  distance = fname.split('_')[-3]\n",
        "\n",
        "  if int(distance) > MAX_DISTANCE_ALLOWED:\n",
        "    return None\n",
        "\n",
        "  light = 5\n",
        "  moderate = 10\n",
        "  sharp = 15\n",
        "\n",
        "  if int(angle) < 0:\n",
        "    if abs(int(angle)) < light:\n",
        "      # class_name = 'light_left'\n",
        "      return None\n",
        "    elif abs(int(angle)) < moderate:\n",
        "      class_name = 'moderate_left'\n",
        "    else:\n",
        "      class_name = 'sharp_left'\n",
        "  else:\n",
        "    if int(angle) < light:\n",
        "      # class_name = 'light_right'\n",
        "      return None\n",
        "    elif int(angle) < moderate:\n",
        "      class_name = 'moderate_right'\n",
        "    else:\n",
        "      class_name = 'sharp_right'\n",
        "\n",
        "  return class_name\n",
        "\n",
        "# def get_files_per_class(files):\n",
        "#   \"\"\"\n",
        "#     Retrieve the files that belong to each class.\n",
        "\n",
        "#     Args:\n",
        "#       files: List of files in the dataset.\n",
        "\n",
        "#     Return:\n",
        "#       Dictionary of class names (key) and files (values).\n",
        "#   \"\"\"\n",
        "#   files_for_class = collections.defaultdict(list)\n",
        "#   for fname in files:\n",
        "#     class_name = get_class(fname)\n",
        "#     files_for_class[class_name].append(fname)\n",
        "#   return files_for_class\n",
        "\n",
        "# def download_from_zip(zip_url, to_dir, file_names):\n",
        "#   \"\"\"\n",
        "#     Download the contents of the zip file from the zip URL.\n",
        "\n",
        "#     Args:\n",
        "#       zip_url: Zip URL containing data.\n",
        "#       to_dir: Directory to download data to.\n",
        "#       file_names: Names of files to download.\n",
        "#   \"\"\"\n",
        "#   with rz.RemoteZip(zip_url) as zip:\n",
        "#     for fn in tqdm.tqdm(file_names):\n",
        "#       class_name = get_class(fn)\n",
        "#       zip.extract(fn, str(to_dir / class_name))\n",
        "#       unzipped_file = to_dir / class_name / fn\n",
        "\n",
        "#       fn = pathlib.Path(fn).parts[-1]\n",
        "#       output_file = to_dir / class_name / fn\n",
        "#       unzipped_file.rename(output_file,)\n",
        "\n",
        "def unzip_from_local_zip(local_zip_file, to_dir, file_names=None):\n",
        "    \"\"\"\n",
        "    Extract selected files (if file_names is provided) or all files from a local zip file into the given directory,\n",
        "    flattening the directory structure.\n",
        "\n",
        "    Args:\n",
        "      local_zip_file: Path to the local zip file.\n",
        "      to_dir: Directory where the files will be extracted.\n",
        "      file_names: Optional list of file names to extract. If None, all files are extracted.\n",
        "    \"\"\"\n",
        "    with zipfile.ZipFile(local_zip_file, 'r') as zip_ref:\n",
        "        if file_names is None:\n",
        "            file_infos = [info for info in zip_ref.infolist() if not info.is_dir()]\n",
        "        else:\n",
        "            file_infos = []\n",
        "            for fn in file_names:\n",
        "                try:\n",
        "                    info = zip_ref.getinfo(fn)\n",
        "                    file_infos.append(info)\n",
        "                except KeyError:\n",
        "                    print(f\"Warning: {fn} not found in the zip file.\")\n",
        "        for info in tqdm.tqdm(file_infos, desc=\"Extracting files\"):\n",
        "            fn = info.filename\n",
        "            # Determine the class name for the file (assumes get_class is defined)\n",
        "            class_name = get_class(fn)\n",
        "            target_dir = to_dir / class_name\n",
        "            target_dir.mkdir(parents=True, exist_ok=True)\n",
        "\n",
        "            # Extract the file to the target directory.\n",
        "            zip_ref.extract(info, path=str(target_dir))\n",
        "\n",
        "            # The extracted file may include subdirectories; flatten it.\n",
        "            extracted_file = target_dir / fn\n",
        "            file_basename = pathlib.Path(fn).name\n",
        "            output_file = target_dir / file_basename\n",
        "\n",
        "            if extracted_file != output_file:\n",
        "                extracted_file.rename(output_file)\n",
        "\n",
        "def split_class_lists(files_for_class, count):\n",
        "  \"\"\"\n",
        "    Returns the list of files belonging to a subset of data as well as the remainder of\n",
        "    files that need to be downloaded.\n",
        "\n",
        "    Args:\n",
        "      files_for_class: Files belonging to a particular class of data.\n",
        "      count: Number of files to download.\n",
        "\n",
        "    Return:\n",
        "      split_files: Files belonging to the subset of data.\n",
        "      remainder: Dictionary of the remainder of files that need to be downloaded.\n",
        "  \"\"\"\n",
        "  split_files = []\n",
        "  remainder = {}\n",
        "  for cls in files_for_class:\n",
        "    split_files.extend(files_for_class[cls][:count])\n",
        "    remainder[cls] = files_for_class[cls][count:]\n",
        "  return split_files, remainder\n",
        "\n",
        "def parse_subset(zip_path, splits, download_dir):\n",
        "  \"\"\"\n",
        "    Download a subset of the UFC101 dataset and split them into various parts, such as\n",
        "    training, validation, and test.\n",
        "\n",
        "    Args:\n",
        "      zip_url: Zip URL containing data.\n",
        "      num_classes: Number of labels.\n",
        "      splits: Dictionary specifying the training, validation, test, etc. (key) division of data\n",
        "              (value is number of files per split).\n",
        "      download_dir: Directory to download data to.\n",
        "\n",
        "    Return:\n",
        "      dir: Posix path of the resulting directories containing the splits of data.\n",
        "  \"\"\"\n",
        "  # files = list_files_per_class(zip_path)\n",
        "  # for f in files:\n",
        "  #   print(f)\n",
        "  #   tokens = f.split('/')\n",
        "  #   if len(tokens) <= 2:\n",
        "  #     files.remove(f) # Remove that item from the list if it does not have a filename\n",
        "\n",
        "  files_for_class = list_files_per_class(zip_path)\n",
        "\n",
        "  classes = list(files_for_class.keys())\n",
        "\n",
        "  for cls in classes:\n",
        "    new_files_for_class = files_for_class[cls]\n",
        "    random.shuffle(new_files_for_class)\n",
        "    files_for_class[cls] = new_files_for_class\n",
        "\n",
        "  # Only use the number of classes you want in the dictionary\n",
        "  files_for_class = {x: files_for_class[x] for x in list(files_for_class)}\n",
        "\n",
        "  dirs = {}\n",
        "  # for split_name, split_count in splits.items():\n",
        "  #   print(split_name, \":\")\n",
        "  #   split_dir = download_dir / split_name\n",
        "  #   split_files, files_for_class = split_class_lists(files_for_class, split_count)\n",
        "  #   unzip_from_local_zip(zip_path, split_dir, file_names=split_files)\n",
        "  #   dirs[split_name] = split_dir\n",
        "\n",
        "  for split_name in splits:\n",
        "        split_dir = download_dir / split_name\n",
        "        split_files = []\n",
        "        for cls in classes:\n",
        "            total = len(files_for_class[cls])\n",
        "            # Compute counts based on percentages.\n",
        "            train_count = int(round(total * splits.get(\"train\", 0)))\n",
        "            val_count = int(round(total * splits.get(\"val\", 0)))\n",
        "            # For test, we take the remaining files.\n",
        "            test_count = total - train_count - val_count\n",
        "\n",
        "            if split_name == \"train\":\n",
        "                selected = files_for_class[cls][:train_count]\n",
        "            elif split_name == \"val\":\n",
        "                selected = files_for_class[cls][train_count:train_count + val_count]\n",
        "            elif split_name == \"test\":\n",
        "                selected = files_for_class[cls][train_count + val_count:]\n",
        "            else:\n",
        "                raise ValueError(f\"Unknown split name: {split_name}\")\n",
        "            split_files.extend(selected)\n",
        "        print(f\"{split_name}: extracting {len(split_files)} files\")\n",
        "        unzip_from_local_zip(zip_path, split_dir, file_names=split_files)\n",
        "        dirs[split_name] = split_dir\n",
        "\n",
        "  return dirs\n",
        "\n",
        "def format_frames(frame, output_size):\n",
        "  \"\"\"\n",
        "    Pad and resize an image from a video.\n",
        "\n",
        "    Args:\n",
        "      frame: Image that needs to resized and padded.\n",
        "      output_size: Pixel size of the output frame image.\n",
        "\n",
        "    Return:\n",
        "      Formatted frame with padding of specified output size.\n",
        "  \"\"\"\n",
        "  frame = tf.image.convert_image_dtype(frame, tf.float32)\n",
        "  frame = tf.image.resize_with_pad(frame, *output_size)\n",
        "  if MODE == \"OPTIC_FLOW\":\n",
        "    frame = frame[:, :, :CHANNELS]\n",
        "  return frame\n",
        "\n",
        "def frames_from_video_file(video_path, n_frames, output_size = (224,224), frame_step = 2):\n",
        "  \"\"\"\n",
        "    Creates frames from each video file present for each category.\n",
        "\n",
        "    Args:\n",
        "      video_path: File path to the video.\n",
        "      n_frames: Number of frames to be created per video file.\n",
        "      output_size: Pixel size of the output frame image.\n",
        "\n",
        "    Return:\n",
        "      An NumPy array of frames in the shape of (n_frames, height, width, channels).\n",
        "  \"\"\"\n",
        "  # Read each video frame by frame\n",
        "  result = []\n",
        "  src = cv2.VideoCapture(str(video_path))\n",
        "\n",
        "  video_length = src.get(cv2.CAP_PROP_FRAME_COUNT)\n",
        "\n",
        "  need_length = 1 + (n_frames - 1) * frame_step\n",
        "\n",
        "  if need_length > video_length:\n",
        "    start = 0\n",
        "  else:\n",
        "    max_start = video_length - need_length\n",
        "    start = random.randint(0, max_start + 1)\n",
        "\n",
        "  src.set(cv2.CAP_PROP_POS_FRAMES, start)\n",
        "  # ret is a boolean indicating whether read was successful, frame is the image itself\n",
        "  ret, frame = src.read()\n",
        "  if MODE == \"OPTIC_FLOW\":\n",
        "    frame = frame[..., :CHANNELS]\n",
        "\n",
        "  result.append(format_frames(frame, output_size))\n",
        "\n",
        "  for _ in range(n_frames - 1):\n",
        "    for _ in range(frame_step):\n",
        "      ret, frame = src.read()\n",
        "    if ret:\n",
        "      frame = format_frames(frame, output_size)\n",
        "\n",
        "      if MODE == \"OPTIC_FLOW\":\n",
        "        # remove the last channel\n",
        "        frame = frame[..., :CHANNELS]\n",
        "      result.append(frame)\n",
        "    else:\n",
        "      result.append(np.zeros_like(result[0]))\n",
        "  src.release()\n",
        "\n",
        "  if not MODE == \"OPTIC_FLOW\":\n",
        "    result = np.array(result)[..., [2, 1, 0]]\n",
        "\n",
        "  return result\n",
        "\n",
        "class FrameGenerator:\n",
        "  def __init__(self, path, n_frames, training = False):\n",
        "    \"\"\" Returns a set of frames with their associated label.\n",
        "\n",
        "      Args:\n",
        "        path: Video file paths.\n",
        "        n_frames: Number of frames.\n",
        "        training: Boolean to determine if training dataset is being created.\n",
        "    \"\"\"\n",
        "    self.path = path\n",
        "    self.n_frames = n_frames\n",
        "    self.training = training\n",
        "    self.class_names = sorted(set(p.name for p in self.path.iterdir() if p.is_dir()))\n",
        "    self.class_ids_for_name = dict((name, idx) for idx, name in enumerate(self.class_names))\n",
        "\n",
        "  def get_files_and_class_names(self):\n",
        "    video_paths = list(self.path.glob('*/*.avi'))\n",
        "    classes = [p.parent.name for p in video_paths]\n",
        "    return video_paths, classes\n",
        "\n",
        "  def __call__(self):\n",
        "    video_paths, classes = self.get_files_and_class_names()\n",
        "\n",
        "    pairs = list(zip(video_paths, classes))\n",
        "\n",
        "    if self.training:\n",
        "      random.shuffle(pairs)\n",
        "\n",
        "    for path, name in pairs:\n",
        "      video_frames = frames_from_video_file(path, self.n_frames)\n",
        "      label = self.class_ids_for_name[name] # Encode labels\n",
        "      yield video_frames, label"
      ]
    },
    {
      "cell_type": "code",
      "execution_count": 7,
      "metadata": {
        "colab": {
          "base_uri": "https://localhost:8080/"
        },
        "id": "OYY7PkdJFM4Z",
        "outputId": "5e51b54e-cc19-4650-860a-91baa088e52f"
      },
      "outputs": [
        {
          "name": "stdout",
          "output_type": "stream",
          "text": [
            "Found 4 classes.\n",
            "moderate_right: 294 files\n",
            "moderate_left: 297 files\n",
            "sharp_right: 332 files\n",
            "sharp_left: 260 files\n",
            "train: extracting 828 files\n"
          ]
        },
        {
          "name": "stderr",
          "output_type": "stream",
          "text": [
            "Extracting files: 100%|██████████| 828/828 [00:02<00:00, 318.04it/s]\n"
          ]
        },
        {
          "name": "stdout",
          "output_type": "stream",
          "text": [
            "val: extracting 236 files\n"
          ]
        },
        {
          "name": "stderr",
          "output_type": "stream",
          "text": [
            "Extracting files: 100%|██████████| 236/236 [00:00<00:00, 351.87it/s]\n"
          ]
        },
        {
          "name": "stdout",
          "output_type": "stream",
          "text": [
            "test: extracting 119 files\n"
          ]
        },
        {
          "name": "stderr",
          "output_type": "stream",
          "text": [
            "Extracting files: 100%|██████████| 119/119 [00:00<00:00, 303.91it/s]\n"
          ]
        }
      ],
      "source": [
        "download_dir = pathlib.Path('./left_right_subset/')\n",
        "\n",
        "subset_paths = parse_subset(DATASET_FILE,\n",
        "                        splits = {\"train\": 0.7, \"val\": 0.2, \"test\": 0.1},\n",
        "                        download_dir = download_dir)"
      ]
    },
    {
      "cell_type": "markdown",
      "metadata": {
        "id": "n90nVnByhgCY"
      },
      "source": [
        "Split Distribution"
      ]
    },
    {
      "cell_type": "code",
      "execution_count": 8,
      "metadata": {
        "colab": {
          "base_uri": "https://localhost:8080/",
          "height": 449
        },
        "id": "bh5Hr-SnAvmH",
        "outputId": "f43138aa-d0ed-493b-d43b-0ac53733abd9"
      },
      "outputs": [
        {
          "data": {
            "image/png": "[encoded data removed]",
            "text/plain": [
              "<Figure size 640x480 with 1 Axes>"
            ]
          },
          "metadata": {},
          "output_type": "display_data"
        }
      ],
      "source": [
        "def get_dataset_size(set):\n",
        "  return len(list(subset_paths[set].glob('*/*.avi')))\n",
        "\n",
        "sets = ['train', 'val', 'test']\n",
        "\n",
        "plt.bar(x = range(len(sets)), height = [get_dataset_size(s) for s in sets])\n",
        "plt.xlabel('Dataset')\n",
        "plt.ylabel('Size')\n",
        "plt.xticks(range(len(sets)), sets)\n",
        "plt.show()\n"
      ]
    },
    {
      "cell_type": "markdown",
      "metadata": {
        "id": "vLiw0pjWhco6"
      },
      "source": [
        "Class Distribution"
      ]
    },
    {
      "cell_type": "code",
      "execution_count": 9,
      "metadata": {
        "colab": {
          "base_uri": "https://localhost:8080/",
          "height": 564
        },
        "id": "V12E2aNzhce0",
        "outputId": "5ca22701-bbb6-4c28-ee57-f03ebc33c468"
      },
      "outputs": [
        {
          "data": {
            "image/png": "[encoded data removed]",
            "text/plain": [
              "<Figure size 1000x600 with 1 Axes>"
            ]
          },
          "metadata": {},
          "output_type": "display_data"
        }
      ],
      "source": [
        "def count_class_size(class_name):\n",
        "  return len(list(subset_paths['train'].glob(f'{class_name}/*')))\n",
        "\n",
        "fg = FrameGenerator(subset_paths['train'], 1, training=True)\n",
        "labels = list(fg.class_ids_for_name.keys())\n",
        "\n",
        "plt.figure(figsize=(10, 6))\n",
        "plt.title('Training Set Class Distribution')\n",
        "plt.bar(x = range(len(labels)), height = [count_class_size(c) for c in labels])\n",
        "plt.xlabel('Class')\n",
        "plt.ylabel('Size')\n",
        "plt.xticks(range(len(labels)), labels)\n",
        "plt.show()"
      ]
    },
    {
      "cell_type": "markdown",
      "metadata": {
        "id": "C0O3ttIzpFZJ"
      },
      "source": [
        "Create the training, validation, and test sets (`train_ds`, `val_ds`, and `test_ds`)."
      ]
    },
    {
      "cell_type": "code",
      "execution_count": 10,
      "metadata": {
        "cellView": "form",
        "id": "lq86IyGDJjTX"
      },
      "outputs": [],
      "source": [
        "n_frames = 10\n",
        "batch_size = 16\n",
        "\n",
        "output_signature = (tf.TensorSpec(shape = (None, None, None, CHANNELS), dtype = tf.float32),\n",
        "                    tf.TensorSpec(shape = (), dtype = tf.int16))\n",
        "\n",
        "train_ds = tf.data.Dataset.from_generator(FrameGenerator(subset_paths['train'], n_frames, training=True),\n",
        "                                          output_signature = output_signature)\n",
        "\n",
        "\n",
        "# Batch the data\n",
        "train_ds = train_ds.batch(batch_size)\n",
        "\n",
        "val_ds = tf.data.Dataset.from_generator(FrameGenerator(subset_paths['val'], n_frames),\n",
        "                                        output_signature = output_signature)\n",
        "val_ds = val_ds.batch(batch_size)\n",
        "\n",
        "test_ds = tf.data.Dataset.from_generator(FrameGenerator(subset_paths['test'], n_frames),\n",
        "                                         output_signature = output_signature)\n",
        "\n",
        "test_ds = test_ds.batch(batch_size)"
      ]
    },
    {
      "cell_type": "code",
      "execution_count": 11,
      "metadata": {
        "colab": {
          "base_uri": "https://localhost:8080/"
        },
        "id": "lnujtvwefpNd",
        "outputId": "9a619e31-0851-41f0-b5b9-c36bc07c54e5"
      },
      "outputs": [
        {
          "name": "stdout",
          "output_type": "stream",
          "text": [
            "  Preparing metadata (setup.py) ... \u001b[?25l\u001b[?25hdone\n",
            "(16, 10, 224, 224, 3)\n",
            "(16,) tf.Tensor([2 2 0 1 3 1 1 3 1 1 2 3 1 3 0 3], shape=(16,), dtype=int16)\n"
          ]
        }
      ],
      "source": [
        "# Display example gif - code from https://www.tensorflow.org/tutorials/load_data/video\n",
        "!pip install -q git+https://github.com/tensorflow/docs\n",
        "\n",
        "import imageio\n",
        "from tensorflow_docs.vis import embed\n",
        "\n",
        "def to_gif(images):\n",
        "  converted_images = np.clip(images * 255, 0, 255).astype(np.uint8)\n",
        "  imageio.mimsave('./animation.gif', converted_images, fps=1)\n",
        "  return embed.embed_file('./animation.gif')\n",
        "\n",
        "if not MODE == \"OPTIC_FLOW\":\n",
        "  frames, label = next(iter(train_ds))\n",
        "  print(frames.shape)\n",
        "  print(label.shape, label)\n",
        "  to_gif(frames[7])"
      ]
    },
    {
      "cell_type": "markdown",
      "metadata": {
        "id": "nzogoGA4pQW0"
      },
      "source": [
        "## Create the model\n",
        "\n",
        "The following 3D convolutional neural network model is based off the paper [A Closer Look at Spatiotemporal Convolutions for Action Recognition](https://arxiv.org/abs/1711.11248v3) by D. Tran et al. (2017). The paper compares several versions of 3D ResNets. Instead of operating on a single image with dimensions `(height, width)`, like standard ResNets, these operate on video volume `(time, height, width)`. The most obvious approach to this problem would be replace each 2D convolution (`layers.Conv2D`) with a 3D convolution (`layers.Conv3D`).\n",
        "\n",
        "This tutorial uses a (2 + 1)D convolution with [residual connections](https://arxiv.org/abs/1512.03385). The (2 + 1)D convolution allows for the decomposition of the spatial and temporal dimensions, therefore creating two separate steps. An advantage of this approach is that factorizing the convolutions into spatial and temporal dimensions saves parameters.\n",
        "\n",
        "For each output location a 3D convolution combines all the vectors from a 3D patch of the volume to create one vector in the output volume.\n",
        "\n",
        "![3D convolutions](https://www.tensorflow.org/images/tutorials/video/3DCNN.png)\n",
        "\n",
        "This operation is takes `time * height * width * channels` inputs and produces `channels` outputs (assuming the number of input and output channels are the same. So a 3D convolution layer with a kernel size of `(3 x 3 x 3)` would need a weight-matrix with `27 * channels ** 2` entries. The reference paper found that a more effective & efficient approach was to factorize the convolution. Instead of a single 3D convolution to process the time and space dimensions, they proposed a \\\"(2+1)D\\\" convolution which processes the space and time dimensions separately. The figure below shows the factored spatial and temporal convolutions of a (2 + 1)D convolution.\n",
        "\n",
        "![(2+1)D convolutions](https://www.tensorflow.org/images/tutorials/video/2plus1CNN.png)\n",
        "\n",
        "The main advantage of this approach is that it reduces the number of parameters. In the (2 + 1)D convolution the spatial convolution takes in data of the shape `(1, width, height)`, while the temporal convolution takes in data of the shape `(time, 1, 1)`. For example, a (2 + 1)D convolution with kernel size `(3 x 3 x 3)` would need weight matrices of size `(9 * channels**2) + (3 * channels**2)`, less than half as many as the full 3D convolution. This tutorial implements (2 + 1)D ResNet18, where each convolution in the resnet is replaced by a (2+1)D convolution."
      ]
    },
    {
      "cell_type": "code",
      "execution_count": 12,
      "metadata": {
        "id": "GZcB_7dg-EZJ"
      },
      "outputs": [],
      "source": [
        "# Define the dimensions of one frame in the set of frames created\n",
        "HEIGHT = 224\n",
        "WIDTH = 224"
      ]
    },
    {
      "cell_type": "code",
      "execution_count": 13,
      "metadata": {
        "id": "yD_sDIBlNu7K"
      },
      "outputs": [],
      "source": [
        "class Conv2Plus1D(keras.layers.Layer):\n",
        "  def __init__(self, filters, kernel_size, padding):\n",
        "    \"\"\"\n",
        "      A sequence of convolutional layers that first apply the convolution operation over the\n",
        "      spatial dimensions, and then the temporal dimension.\n",
        "    \"\"\"\n",
        "    super().__init__()\n",
        "    self.seq = keras.Sequential([\n",
        "        # Spatial decomposition\n",
        "        layers.Conv3D(filters=filters,\n",
        "                      kernel_size=(1, kernel_size[1], kernel_size[2]),\n",
        "                      padding=padding),\n",
        "        # Temporal decomposition\n",
        "        layers.Conv3D(filters=filters,\n",
        "                      kernel_size=(kernel_size[0], 1, 1),\n",
        "                      padding=padding)\n",
        "        ])\n",
        "\n",
        "  def call(self, x):\n",
        "    return self.seq(x)"
      ]
    },
    {
      "cell_type": "markdown",
      "metadata": {
        "id": "I-fCAddqEORZ"
      },
      "source": [
        "A ResNet model is made from a sequence of residual blocks.\n",
        "A residual block has two branches. The main branch performs the calculation, but is difficult for gradients to flow through.\n",
        "The residual branch bypasses the main calculation and mostly just adds the input to the output of the main branch.\n",
        "Gradients flow easily through this branch.\n",
        "Therefore, an easy path from the loss function to any of the residual block's main branch will be present.\n",
        "This avoids the vanishing gradient problem.\n",
        "\n",
        "Create the main branch of the residual block with the following class. In contrast to the standard ResNet structure this uses the custom `Conv2Plus1D` layer instead of `layers.Conv2D`."
      ]
    },
    {
      "cell_type": "code",
      "execution_count": 14,
      "metadata": {
        "id": "tjxAKHwn6mTJ"
      },
      "outputs": [],
      "source": [
        "class ResidualMain(keras.layers.Layer):\n",
        "  \"\"\"\n",
        "    Residual block of the model with convolution, layer normalization, and the\n",
        "    activation function, ReLU.\n",
        "  \"\"\"\n",
        "  def __init__(self, filters, kernel_size):\n",
        "    super().__init__()\n",
        "    self.seq = keras.Sequential([\n",
        "        Conv2Plus1D(filters=filters,\n",
        "                    kernel_size=kernel_size,\n",
        "                    padding='same'),\n",
        "        layers.LayerNormalization(),\n",
        "        layers.ReLU(),\n",
        "        Conv2Plus1D(filters=filters,\n",
        "                    kernel_size=kernel_size,\n",
        "                    padding='same'),\n",
        "        layers.LayerNormalization()\n",
        "    ])\n",
        "\n",
        "  def call(self, x):\n",
        "    return self.seq(x)"
      ]
    },
    {
      "cell_type": "markdown",
      "metadata": {
        "id": "CevmZ9qsdpWC"
      },
      "source": [
        "To add the residual branch to the main branch it needs to have the same size. The `Project` layer below deals with cases where the number of channels is changed on the branch. In particular, a sequence of densely-connected layer followed by normalization is added.  "
      ]
    },
    {
      "cell_type": "code",
      "execution_count": 15,
      "metadata": {
        "id": "znrk5BrL6kuq"
      },
      "outputs": [],
      "source": [
        "class Project(keras.layers.Layer):\n",
        "  \"\"\"\n",
        "    Project certain dimensions of the tensor as the data is passed through different\n",
        "    sized filters and downsampled.\n",
        "  \"\"\"\n",
        "  def __init__(self, units):\n",
        "    super().__init__()\n",
        "    self.seq = keras.Sequential([\n",
        "        layers.Dense(units),\n",
        "        layers.LayerNormalization()\n",
        "    ])\n",
        "\n",
        "  def call(self, x):\n",
        "    return self.seq(x)"
      ]
    },
    {
      "cell_type": "markdown",
      "metadata": {
        "id": "S8zycXGvfnak"
      },
      "source": [
        "Use `add_residual_block` to introduce a skip connection between the layers of the model."
      ]
    },
    {
      "cell_type": "code",
      "execution_count": 16,
      "metadata": {
        "id": "urjVgqvw-TlB"
      },
      "outputs": [],
      "source": [
        "def add_residual_block(input, filters, kernel_size):\n",
        "  \"\"\"\n",
        "    Add residual blocks to the model. If the last dimensions of the input data\n",
        "    and filter size does not match, project it such that last dimension matches.\n",
        "  \"\"\"\n",
        "  out = ResidualMain(filters,\n",
        "                     kernel_size)(input)\n",
        "\n",
        "  res = input\n",
        "  # Using the Keras functional APIs, project the last dimension of the tensor to\n",
        "  # match the new filter size\n",
        "  if out.shape[-1] != input.shape[-1]:\n",
        "    res = Project(out.shape[-1])(res)\n",
        "\n",
        "  return layers.add([res, out])"
      ]
    },
    {
      "cell_type": "markdown",
      "metadata": {
        "id": "bozog_0hFKrD"
      },
      "source": [
        "Resizing the video is necessary to perform downsampling of the data. In particular, downsampling the video frames allow for the model to examine specific parts of frames to detect patterns that may be specific to a certain action. Through downsampling, non-essential information can be discarded. Moreoever, resizing the video will allow for dimensionality reduction and therefore faster processing through the model."
      ]
    },
    {
      "cell_type": "code",
      "execution_count": 17,
      "metadata": {
        "id": "lQOWuc2I-QqK"
      },
      "outputs": [],
      "source": [
        "class ResizeVideo(keras.layers.Layer):\n",
        "  def __init__(self, height, width):\n",
        "    super().__init__()\n",
        "    self.height = height\n",
        "    self.width = width\n",
        "    self.resizing_layer = layers.Resizing(self.height, self.width)\n",
        "\n",
        "  def call(self, video):\n",
        "    \"\"\"\n",
        "      Use the einops library to resize the tensor.\n",
        "\n",
        "      Args:\n",
        "        video: Tensor representation of the video, in the form of a set of frames.\n",
        "\n",
        "      Return:\n",
        "        A downsampled size of the video according to the new height and width it should be resized to.\n",
        "    \"\"\"\n",
        "    # b stands for batch size, t stands for time, h stands for height,\n",
        "    # w stands for width, and c stands for the number of channels.\n",
        "    old_shape = einops.parse_shape(video, 'b t h w c')\n",
        "    images = einops.rearrange(video, 'b t h w c -> (b t) h w c')\n",
        "    images = self.resizing_layer(images)\n",
        "    videos = einops.rearrange(\n",
        "        images, '(b t) h w c -> b t h w c',\n",
        "        t = old_shape['t'])\n",
        "    return videos"
      ]
    },
    {
      "cell_type": "markdown",
      "metadata": {
        "id": "Z9IqzCq--Uu9"
      },
      "source": [
        "Use the [Keras functional API](https://www.tensorflow.org/guide/keras/functional) to build the residual network."
      ]
    },
    {
      "cell_type": "code",
      "execution_count": 18,
      "metadata": {
        "id": "_bROfh_K-Wxs"
      },
      "outputs": [],
      "source": [
        "# Number of classes\n",
        "num_classes = len(labels)\n",
        "\n",
        "input_shape = (None, 10, HEIGHT, WIDTH, CHANNELS)\n",
        "input = layers.Input(shape=(input_shape[1:]))\n",
        "x = input\n",
        "\n",
        "x = Conv2Plus1D(filters=16, kernel_size=(3, 7, 7), padding='same')(x)\n",
        "x = layers.BatchNormalization()(x)\n",
        "x = layers.ReLU()(x)\n",
        "x = ResizeVideo(HEIGHT // 2, WIDTH // 2)(x)\n",
        "\n",
        "# Block 1\n",
        "x = add_residual_block(x, 16, (3, 3, 3))\n",
        "x = ResizeVideo(HEIGHT // 4, WIDTH // 4)(x)\n",
        "\n",
        "# Block 2\n",
        "x = add_residual_block(x, 32, (3, 3, 3))\n",
        "x = ResizeVideo(HEIGHT // 8, WIDTH // 8)(x)\n",
        "\n",
        "# Block 3\n",
        "x = add_residual_block(x, 64, (3, 3, 3))\n",
        "x = ResizeVideo(HEIGHT // 16, WIDTH // 16)(x)\n",
        "\n",
        "# Block 4\n",
        "x = add_residual_block(x, 128, (3, 3, 3))\n",
        "\n",
        "x = layers.GlobalAveragePooling3D()(x)\n",
        "x = layers.Flatten()(x)\n",
        "x = layers.Dense(num_classes)(x)\n",
        "\n",
        "model = keras.Model(input, x)"
      ]
    },
    {
      "cell_type": "code",
      "execution_count": 19,
      "metadata": {
        "id": "TiO0WylG-ZHM"
      },
      "outputs": [],
      "source": [
        "frames, label = next(iter(train_ds))\n",
        "model.build(frames)"
      ]
    },
    {
      "cell_type": "code",
      "execution_count": 20,
      "metadata": {
        "colab": {
          "base_uri": "https://localhost:8080/",
          "height": 1000
        },
        "id": "GAsKrM8r-bKM",
        "outputId": "38360035-420f-4afd-ef19-c76141f336f7"
      },
      "outputs": [
        {
          "data": {
            "image/png": "[encoded data removed]",
            "text/plain": [
              "<IPython.core.display.Image object>"
            ]
          },
          "execution_count": 20,
          "metadata": {},
          "output_type": "execute_result"
        }
      ],
      "source": [
        "# Visualize the model\n",
        "keras.utils.plot_model(model, expand_nested=True, dpi=60, show_shapes=True)"
      ]
    },
    {
      "cell_type": "markdown",
      "metadata": {
        "id": "1yvJJPnY-dMP"
      },
      "source": [
        "## Train the model\n",
        "\n",
        "For this tutorial, choose the `tf.keras.optimizers.Adam` optimizer and the `tf.keras.losses.SparseCategoricalCrossentropy` loss function. Use the `metrics` argument to the view the accuracy of the model performance at every step."
      ]
    },
    {
      "cell_type": "code",
      "execution_count": 21,
      "metadata": {
        "id": "ejrbyebDp2tA"
      },
      "outputs": [],
      "source": [
        "model.compile(loss = keras.losses.SparseCategoricalCrossentropy(from_logits=True),\n",
        "              optimizer = keras.optimizers.Adam(learning_rate = 0.001),\n",
        "              metrics = ['accuracy'])"
      ]
    },
    {
      "cell_type": "markdown",
      "metadata": {
        "id": "nZT1Xlx9stP2"
      },
      "source": [
        "Train the model for 50 epoches with the Keras `Model.fit` method."
      ]
    },
    {
      "cell_type": "code",
      "execution_count": 22,
      "metadata": {
        "colab": {
          "base_uri": "https://localhost:8080/",
          "height": 582
        },
        "id": "POrT7eJYssqi",
        "outputId": "7361e40b-70f6-45d9-fdda-22ff6616bade"
      },
      "outputs": [
        {
          "data": {
            "image/png": "[encoded data removed]",
            "text/plain": [
              "<Figure size 1000x600 with 1 Axes>"
            ]
          },
          "metadata": {},
          "output_type": "display_data"
        },
        {
          "name": "stdout",
          "output_type": "stream",
          "text": [
            "{0: 0.9982993197278912, 1: 1.0085910652920962, 2: 1.1375968992248062, 3: 0.8867069486404834}\n"
          ]
        }
      ],
      "source": [
        "def calculate_weighted_classes(y):\n",
        "  class_counts = np.bincount(y)\n",
        "  total_samples = np.sum(class_counts)\n",
        "  class_weights = total_samples / (len(class_counts) * np.bincount(y))\n",
        "  return class_weights\n",
        "\n",
        "# Convert the labels to a NumPy array before concatenation\n",
        "y = np.concatenate([y for x, y in train_ds], axis=0)\n",
        "weighted_class = calculate_weighted_classes(y) # Concatenate NumPy arrays\n",
        "\n",
        "plt.figure(figsize=(10, 6))\n",
        "plt.title('Weighted Class Distribution')\n",
        "plt.bar(x = range(len(labels)), height = weighted_class)\n",
        "plt.xlabel('Class')\n",
        "plt.ylabel('Weight')\n",
        "plt.xticks(range(len(labels)), labels)\n",
        "plt.show()\n",
        "\n",
        "class_weight_dict = {i: weight for i, weight in enumerate(weighted_class)}\n",
        "\n",
        "print(class_weight_dict)"
      ]
    },
    {
      "cell_type": "code",
      "execution_count": null,
      "metadata": {
        "colab": {
          "base_uri": "https://localhost:8080/"
        },
        "id": "VMrMUl2hOqMs",
        "outputId": "360da404-4552-4c83-98ec-eefd4a8d2cab"
      },
      "outputs": [
        {
          "name": "stdout",
          "output_type": "stream",
          "text": [
            "Epoch 1/50\n",
            "     74/Unknown \u001b[1m171s\u001b[0m 2s/step - accuracy: 0.2569 - loss: 2.2289"
          ]
        },
        {
          "name": "stderr",
          "output_type": "stream",
          "text": [
            "/usr/local/lib/python3.11/dist-packages/keras/src/trainers/epoch_iterator.py:151: UserWarning: Your input ran out of data; interrupting training. Make sure that your dataset or generator can generate at least `steps_per_epoch * epochs` batches. You may need to use the `.repeat()` function when building your dataset.\n",
            "  self._interrupted_warning()\n"
          ]
        },
        {
          "name": "stdout",
          "output_type": "stream",
          "text": [
            "\b\b\b\b\b\b\b\b\b\b\b\b\b\b\b\b\b\b\b\b\b\b\b\b\b\b\b\b\b\b\b\b\b\b\b\b\b\b\b\b\b\b\b\b\b\b\b\b\b\b\b\b\b\b\b\b\b\b\b\b\b\b\r\u001b[1m74/74\u001b[0m \u001b[32m━━━━━━━━━━━━━━━━━━━━\u001b[0m\u001b[37m\u001b[0m \u001b[1m239s\u001b[0m 3s/step - accuracy: 0.2571 - loss: 2.2220 - val_accuracy: 0.2877 - val_loss: 1.4681 - learning_rate: 0.0010\n",
            "Epoch 2/50\n",
            "\u001b[1m31/74\u001b[0m \u001b[32m━━━━━━━━\u001b[0m\u001b[37m━━━━━━━━━━━━\u001b[0m \u001b[1m1:12\u001b[0m 2s/step - accuracy: 0.2389 - loss: 1.4625"
          ]
        }
      ],
      "source": [
        "reduce_lr = keras.callbacks.ReduceLROnPlateau(\n",
        "    monitor='val_loss', factor=0.5, patience=3, min_lr=1e-6, verbose=1\n",
        ")\n",
        "\n",
        "history = model.fit(x = train_ds,\n",
        "                    epochs = 50,\n",
        "                    validation_data = val_ds,\n",
        "                    class_weight = class_weight_dict,\n",
        "                    callbacks=[reduce_lr]\n",
        "                    )"
      ]
    },
    {
      "cell_type": "markdown",
      "metadata": {
        "id": "KKUfMNVns2hu"
      },
      "source": [
        "### Visualize the results\n",
        "\n",
        "Create plots of the loss and accuracy on the training and validation sets:"
      ]
    },
    {
      "cell_type": "code",
      "execution_count": null,
      "metadata": {
        "id": "Cd5tpNrtOrs7"
      },
      "outputs": [],
      "source": [
        "def plot_history(history):\n",
        "  \"\"\"\n",
        "    Plotting training and validation learning curves.\n",
        "\n",
        "    Args:\n",
        "      history: model history with all the metric measures\n",
        "  \"\"\"\n",
        "  fig, (ax1, ax2) = plt.subplots(2)\n",
        "\n",
        "  fig.set_size_inches(18.5, 10.5)\n",
        "\n",
        "  # Plot loss\n",
        "  ax1.set_title('Loss')\n",
        "  ax1.plot(history.history['loss'], label = 'train')\n",
        "  ax1.plot(history.history['val_loss'], label = 'test')\n",
        "  ax1.set_ylabel('Loss')\n",
        "\n",
        "  # Determine upper bound of y-axis\n",
        "  max_loss = max(history.history['loss'] + history.history['val_loss'])\n",
        "\n",
        "  ax1.set_ylim([0, np.ceil(max_loss)])\n",
        "  ax1.set_xlabel('Epoch')\n",
        "  ax1.legend(['Train', 'Validation'])\n",
        "\n",
        "  # Plot accuracy\n",
        "  ax2.set_title('Accuracy')\n",
        "  ax2.plot(history.history['accuracy'],  label = 'train')\n",
        "  ax2.plot(history.history['val_accuracy'], label = 'test')\n",
        "  ax2.set_ylabel('Accuracy')\n",
        "  ax2.set_ylim([0, 1])\n",
        "  ax2.set_xlabel('Epoch')\n",
        "  ax2.legend(['Train', 'Validation'])\n",
        "\n",
        "  plt.show()\n",
        "\n",
        "plot_history(history)"
      ]
    },
    {
      "cell_type": "markdown",
      "metadata": {
        "id": "EJrGF0Sss8E0"
      },
      "source": [
        "## Evaluate the model\n",
        "\n",
        "Use Keras `Model.evaluate` to get the loss and accuracy on the test dataset."
      ]
    },
    {
      "cell_type": "code",
      "execution_count": null,
      "metadata": {
        "id": "Hev0hMCxOtfy"
      },
      "outputs": [],
      "source": [
        "model.evaluate(test_ds, return_dict=True)"
      ]
    },
    {
      "cell_type": "markdown",
      "metadata": {
        "id": "-F73GxD1-yc8"
      },
      "source": [
        "To visualize model performance further, use a [confusion matrix](https://www.tensorflow.org/api_docs/python/tf/math/confusion_matrix). The confusion matrix allows you to assess the performance of the classification model beyond accuracy. In order to build the confusion matrix for this multi-class classification problem, get the actual values in the test set and the predicted values."
      ]
    },
    {
      "cell_type": "code",
      "execution_count": null,
      "metadata": {
        "id": "Yw-6rG5V-0L-"
      },
      "outputs": [],
      "source": [
        "def get_actual_predicted_labels(dataset):\n",
        "  \"\"\"\n",
        "    Create a list of actual ground truth values and the predictions from the model.\n",
        "\n",
        "    Args:\n",
        "      dataset: An iterable data structure, such as a TensorFlow Dataset, with features and labels.\n",
        "\n",
        "    Return:\n",
        "      Ground truth and predicted values for a particular dataset.\n",
        "  \"\"\"\n",
        "  actual = [labels for _, labels in dataset.unbatch()]\n",
        "  predicted = model.predict(dataset)\n",
        "\n",
        "  actual = tf.stack(actual, axis=0)\n",
        "  predicted = tf.concat(predicted, axis=0)\n",
        "  predicted = tf.argmax(predicted, axis=1)\n",
        "\n",
        "  return actual, predicted"
      ]
    },
    {
      "cell_type": "code",
      "execution_count": null,
      "metadata": {
        "id": "aln6qWW_-2dk"
      },
      "outputs": [],
      "source": [
        "def plot_confusion_matrix(actual, predicted, labels, ds_type):\n",
        "  cm = tf.math.confusion_matrix(actual, predicted)\n",
        "  ax = sns.heatmap(cm, annot=True, fmt='g')\n",
        "  sns.set(rc={'figure.figsize':(12, 12)})\n",
        "  sns.set(font_scale=1.4)\n",
        "  ax.set_title('Confusion matrix of bend classification for ' + ds_type)\n",
        "  ax.set_xlabel('Predicted Action')\n",
        "  ax.set_ylabel('Actual Action')\n",
        "  plt.xticks(rotation=90)\n",
        "  plt.yticks(rotation=0)\n",
        "  ax.xaxis.set_ticklabels(labels)\n",
        "  ax.yaxis.set_ticklabels(labels)"
      ]
    },
    {
      "cell_type": "code",
      "execution_count": null,
      "metadata": {
        "id": "tfQ3VAGd-4Az"
      },
      "outputs": [],
      "source": [
        "fg = FrameGenerator(subset_paths['train'], n_frames, training=True)\n",
        "labels = list(fg.class_ids_for_name.keys())"
      ]
    },
    {
      "cell_type": "code",
      "execution_count": null,
      "metadata": {
        "id": "1ucGpbiA-5qi"
      },
      "outputs": [],
      "source": [
        "actual, predicted = get_actual_predicted_labels(train_ds)\n",
        "plot_confusion_matrix(actual, predicted, labels, 'training')"
      ]
    },
    {
      "cell_type": "code",
      "execution_count": null,
      "metadata": {
        "id": "Mfr7AT5T-7ZD"
      },
      "outputs": [],
      "source": [
        "actual, predicted = get_actual_predicted_labels(test_ds)\n",
        "plot_confusion_matrix(actual, predicted, labels, 'test')"
      ]
    },
    {
      "cell_type": "markdown",
      "metadata": {
        "id": "FefzeIZz-9aI"
      },
      "source": [
        "The precision and recall values for each class can also be calculated using a confusion matrix."
      ]
    },
    {
      "cell_type": "code",
      "execution_count": null,
      "metadata": {
        "id": "dq95-56Z-_E2"
      },
      "outputs": [],
      "source": [
        "def calculate_classification_metrics(y_actual, y_pred, labels):\n",
        "  \"\"\"\n",
        "    Calculate the precision and recall of a classification model using the ground truth and\n",
        "    predicted values.\n",
        "\n",
        "    Args:\n",
        "      y_actual: Ground truth labels.\n",
        "      y_pred: Predicted labels.\n",
        "      labels: List of classification labels.\n",
        "\n",
        "    Return:\n",
        "      Precision and recall measures.\n",
        "  \"\"\"\n",
        "  cm = tf.math.confusion_matrix(y_actual, y_pred)\n",
        "  tp = np.diag(cm) # Diagonal represents true positives\n",
        "  precision = dict()\n",
        "  recall = dict()\n",
        "  for i in range(len(labels)):\n",
        "    col = cm[:, i]\n",
        "    fp = np.sum(col) - tp[i] # Sum of column minus true positive is false negative\n",
        "\n",
        "    row = cm[i, :]\n",
        "    fn = np.sum(row) - tp[i] # Sum of row minus true positive, is false negative\n",
        "\n",
        "    precision[labels[i]] = tp[i] / (tp[i] + fp) # Precision\n",
        "\n",
        "    recall[labels[i]] = tp[i] / (tp[i] + fn) # Recall\n",
        "\n",
        "  return precision, recall"
      ]
    },
    {
      "cell_type": "code",
      "execution_count": null,
      "metadata": {
        "id": "4jSEonYQ_BZt"
      },
      "outputs": [],
      "source": [
        "precision, recall = calculate_classification_metrics(actual, predicted, labels) # Test dataset"
      ]
    },
    {
      "cell_type": "code",
      "execution_count": null,
      "metadata": {
        "id": "hXvTW1Df_DV8"
      },
      "outputs": [],
      "source": [
        "precision"
      ]
    },
    {
      "cell_type": "code",
      "execution_count": null,
      "metadata": {
        "id": "be1yrQl5_EYF"
      },
      "outputs": [],
      "source": [
        "recall"
      ]
    },
    {
      "cell_type": "code",
      "execution_count": null,
      "metadata": {
        "id": "ZAOWXZ0ER8wt"
      },
      "outputs": [],
      "source": [
        "# calculate f1\n",
        "f1_score = dict()\n",
        "for key in precision:\n",
        "  f1_score[key] = 2 * (precision[key] * recall[key]) / (precision[key] + recall[key])\n",
        "\n",
        "f1_score"
      ]
    }
  ],
  "metadata": {
    "accelerator": "GPU",
    "colab": {
      "gpuType": "T4",
      "machine_shape": "hm",
      "name": "video_classification.ipynb",
      "provenance": []
    },
    "kernelspec": {
      "display_name": "Python 3",
      "name": "python3"
    },
    "widgets": {
      "application/vnd.jupyter.widget-state+json": {
        "3666c05abbb145b7af0d9403f225f0da": {
          "model_module": "@jupyter-widgets/controls",
          "model_module_version": "1.5.0",
          "model_name": "ProgressStyleModel",
          "state": {
            "_model_module": "@jupyter-widgets/controls",
            "_model_module_version": "1.5.0",
            "_model_name": "ProgressStyleModel",
            "_view_count": null,
            "_view_module": "@jupyter-widgets/base",
            "_view_module_version": "1.2.0",
            "_view_name": "StyleView",
            "bar_color": null,
            "description_width": ""
          }
        },
        "594fe946a80045a7a5b61ec7dfb05d7a": {
          "model_module": "@jupyter-widgets/controls",
          "model_module_version": "1.5.0",
          "model_name": "DescriptionStyleModel",
          "state": {
            "_model_module": "@jupyter-widgets/controls",
            "_model_module_version": "1.5.0",
            "_model_name": "DescriptionStyleModel",
            "_view_count": null,
            "_view_module": "@jupyter-widgets/base",
            "_view_module_version": "1.2.0",
            "_view_name": "StyleView",
            "description_width": ""
          }
        },
        "6124ee1164c34542b37e6c9b8c823052": {
          "model_module": "@jupyter-widgets/controls",
          "model_module_version": "1.5.0",
          "model_name": "HBoxModel",
          "state": {
            "_dom_classes": [],
            "_model_module": "@jupyter-widgets/controls",
            "_model_module_version": "1.5.0",
            "_model_name": "HBoxModel",
            "_view_count": null,
            "_view_module": "@jupyter-widgets/controls",
            "_view_module_version": "1.5.0",
            "_view_name": "HBoxView",
            "box_style": "",
            "children": [
              "IPY_MODEL_cb29470c681246b3bc3dce89ecf61ba4",
              "IPY_MODEL_d63861a738b749db9d4267be1d4a982f",
              "IPY_MODEL_f9a30e2419464e58b8dbe47b8666a644"
            ],
            "layout": "IPY_MODEL_e2efd6c8eaa647d7935b6b75991fae86"
          }
        },
        "83d5a9cfd1a546d7a5df68967e35fc02": {
          "model_module": "@jupyter-widgets/base",
          "model_module_version": "1.2.0",
          "model_name": "LayoutModel",
          "state": {
            "_model_module": "@jupyter-widgets/base",
            "_model_module_version": "1.2.0",
            "_model_name": "LayoutModel",
            "_view_count": null,
            "_view_module": "@jupyter-widgets/base",
            "_view_module_version": "1.2.0",
            "_view_name": "LayoutView",
            "align_content": null,
            "align_items": null,
            "align_self": null,
            "border": null,
            "bottom": null,
            "display": null,
            "flex": null,
            "flex_flow": null,
            "grid_area": null,
            "grid_auto_columns": null,
            "grid_auto_flow": null,
            "grid_auto_rows": null,
            "grid_column": null,
            "grid_gap": null,
            "grid_row": null,
            "grid_template_areas": null,
            "grid_template_columns": null,
            "grid_template_rows": null,
            "height": null,
            "justify_content": null,
            "justify_items": null,
            "left": null,
            "margin": null,
            "max_height": null,
            "max_width": null,
            "min_height": null,
            "min_width": null,
            "object_fit": null,
            "object_position": null,
            "order": null,
            "overflow": null,
            "overflow_x": null,
            "overflow_y": null,
            "padding": null,
            "right": null,
            "top": null,
            "visibility": null,
            "width": null
          }
        },
        "8a3944cd792740d09f19fd5f8d0a60a0": {
          "model_module": "@jupyter-widgets/base",
          "model_module_version": "1.2.0",
          "model_name": "LayoutModel",
          "state": {
            "_model_module": "@jupyter-widgets/base",
            "_model_module_version": "1.2.0",
            "_model_name": "LayoutModel",
            "_view_count": null,
            "_view_module": "@jupyter-widgets/base",
            "_view_module_version": "1.2.0",
            "_view_name": "LayoutView",
            "align_content": null,
            "align_items": null,
            "align_self": null,
            "border": null,
            "bottom": null,
            "display": null,
            "flex": null,
            "flex_flow": null,
            "grid_area": null,
            "grid_auto_columns": null,
            "grid_auto_flow": null,
            "grid_auto_rows": null,
            "grid_column": null,
            "grid_gap": null,
            "grid_row": null,
            "grid_template_areas": null,
            "grid_template_columns": null,
            "grid_template_rows": null,
            "height": null,
            "justify_content": null,
            "justify_items": null,
            "left": null,
            "margin": null,
            "max_height": null,
            "max_width": null,
            "min_height": null,
            "min_width": null,
            "object_fit": null,
            "object_position": null,
            "order": null,
            "overflow": null,
            "overflow_x": null,
            "overflow_y": null,
            "padding": null,
            "right": null,
            "top": null,
            "visibility": null,
            "width": null
          }
        },
        "ae92a809dd8c48deb7e2d9e3a57e9f8a": {
          "model_module": "@jupyter-widgets/controls",
          "model_module_version": "1.5.0",
          "model_name": "DescriptionStyleModel",
          "state": {
            "_model_module": "@jupyter-widgets/controls",
            "_model_module_version": "1.5.0",
            "_model_name": "DescriptionStyleModel",
            "_view_count": null,
            "_view_module": "@jupyter-widgets/base",
            "_view_module_version": "1.2.0",
            "_view_name": "StyleView",
            "description_width": ""
          }
        },
        "cb29470c681246b3bc3dce89ecf61ba4": {
          "model_module": "@jupyter-widgets/controls",
          "model_module_version": "1.5.0",
          "model_name": "HTMLModel",
          "state": {
            "_dom_classes": [],
            "_model_module": "@jupyter-widgets/controls",
            "_model_module_version": "1.5.0",
            "_model_name": "HTMLModel",
            "_view_count": null,
            "_view_module": "@jupyter-widgets/controls",
            "_view_module_version": "1.5.0",
            "_view_name": "HTMLView",
            "description": "",
            "description_tooltip": null,
            "layout": "IPY_MODEL_8a3944cd792740d09f19fd5f8d0a60a0",
            "placeholder": "​",
            "style": "IPY_MODEL_594fe946a80045a7a5b61ec7dfb05d7a",
            "value": "Fetching 1 files: 100%"
          }
        },
        "cc18c02f82284b52851c11985c3744d6": {
          "model_module": "@jupyter-widgets/base",
          "model_module_version": "1.2.0",
          "model_name": "LayoutModel",
          "state": {
            "_model_module": "@jupyter-widgets/base",
            "_model_module_version": "1.2.0",
            "_model_name": "LayoutModel",
            "_view_count": null,
            "_view_module": "@jupyter-widgets/base",
            "_view_module_version": "1.2.0",
            "_view_name": "LayoutView",
            "align_content": null,
            "align_items": null,
            "align_self": null,
            "border": null,
            "bottom": null,
            "display": null,
            "flex": null,
            "flex_flow": null,
            "grid_area": null,
            "grid_auto_columns": null,
            "grid_auto_flow": null,
            "grid_auto_rows": null,
            "grid_column": null,
            "grid_gap": null,
            "grid_row": null,
            "grid_template_areas": null,
            "grid_template_columns": null,
            "grid_template_rows": null,
            "height": null,
            "justify_content": null,
            "justify_items": null,
            "left": null,
            "margin": null,
            "max_height": null,
            "max_width": null,
            "min_height": null,
            "min_width": null,
            "object_fit": null,
            "object_position": null,
            "order": null,
            "overflow": null,
            "overflow_x": null,
            "overflow_y": null,
            "padding": null,
            "right": null,
            "top": null,
            "visibility": null,
            "width": null
          }
        },
        "d63861a738b749db9d4267be1d4a982f": {
          "model_module": "@jupyter-widgets/controls",
          "model_module_version": "1.5.0",
          "model_name": "FloatProgressModel",
          "state": {
            "_dom_classes": [],
            "_model_module": "@jupyter-widgets/controls",
            "_model_module_version": "1.5.0",
            "_model_name": "FloatProgressModel",
            "_view_count": null,
            "_view_module": "@jupyter-widgets/controls",
            "_view_module_version": "1.5.0",
            "_view_name": "ProgressView",
            "bar_style": "success",
            "description": "",
            "description_tooltip": null,
            "layout": "IPY_MODEL_cc18c02f82284b52851c11985c3744d6",
            "max": 1,
            "min": 0,
            "orientation": "horizontal",
            "style": "IPY_MODEL_3666c05abbb145b7af0d9403f225f0da",
            "value": 1
          }
        },
        "e2efd6c8eaa647d7935b6b75991fae86": {
          "model_module": "@jupyter-widgets/base",
          "model_module_version": "1.2.0",
          "model_name": "LayoutModel",
          "state": {
            "_model_module": "@jupyter-widgets/base",
            "_model_module_version": "1.2.0",
            "_model_name": "LayoutModel",
            "_view_count": null,
            "_view_module": "@jupyter-widgets/base",
            "_view_module_version": "1.2.0",
            "_view_name": "LayoutView",
            "align_content": null,
            "align_items": null,
            "align_self": null,
            "border": null,
            "bottom": null,
            "display": null,
            "flex": null,
            "flex_flow": null,
            "grid_area": null,
            "grid_auto_columns": null,
            "grid_auto_flow": null,
            "grid_auto_rows": null,
            "grid_column": null,
            "grid_gap": null,
            "grid_row": null,
            "grid_template_areas": null,
            "grid_template_columns": null,
            "grid_template_rows": null,
            "height": null,
            "justify_content": null,
            "justify_items": null,
            "left": null,
            "margin": null,
            "max_height": null,
            "max_width": null,
            "min_height": null,
            "min_width": null,
            "object_fit": null,
            "object_position": null,
            "order": null,
            "overflow": null,
            "overflow_x": null,
            "overflow_y": null,
            "padding": null,
            "right": null,
            "top": null,
            "visibility": null,
            "width": null
          }
        },
        "f9a30e2419464e58b8dbe47b8666a644": {
          "model_module": "@jupyter-widgets/controls",
          "model_module_version": "1.5.0",
          "model_name": "HTMLModel",
          "state": {
            "_dom_classes": [],
            "_model_module": "@jupyter-widgets/controls",
            "_model_module_version": "1.5.0",
            "_model_name": "HTMLModel",
            "_view_count": null,
            "_view_module": "@jupyter-widgets/controls",
            "_view_module_version": "1.5.0",
            "_view_name": "HTMLView",
            "description": "",
            "description_tooltip": null,
            "layout": "IPY_MODEL_83d5a9cfd1a546d7a5df68967e35fc02",
            "placeholder": "​",
            "style": "IPY_MODEL_ae92a809dd8c48deb7e2d9e3a57e9f8a",
            "value": " 1/1 [00:00&lt;00:00, 86.90it/s]"
          }
        }
      }
    }
  },
  "nbformat": 4,
  "nbformat_minor": 0
}

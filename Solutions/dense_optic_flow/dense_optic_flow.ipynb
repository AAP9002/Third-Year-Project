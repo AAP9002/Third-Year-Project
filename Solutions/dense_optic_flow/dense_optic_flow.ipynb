{
 "cells": [
  {
   "cell_type": "markdown",
   "metadata": {},
   "source": [
    "# Dense optic flow\n",
    "\n",
    "Analysing the movement around the initial R-VP to find a better R-VP"
   ]
  },
  {
   "cell_type": "markdown",
   "metadata": {},
   "source": []
  }
 ],
 "metadata": {
  "language_info": {
   "name": "python"
  }
 },
 "nbformat": 4,
 "nbformat_minor": 2
}
